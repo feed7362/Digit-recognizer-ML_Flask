{
 "cells": [
  {
   "cell_type": "code",
   "execution_count": 7,
   "metadata": {},
   "outputs": [
    {
     "name": "stdout",
     "output_type": "stream",
     "text": [
      " * Serving Flask app '__main__'\n",
      " * Debug mode: off\n"
     ]
    },
    {
     "name": "stderr",
     "output_type": "stream",
     "text": [
      "WARNING: This is a development server. Do not use it in a production deployment. Use a production WSGI server instead.\n",
      " * Running on all addresses (0.0.0.0)\n",
      " * Running on http://127.0.0.1:5000\n",
      " * Running on http://192.168.0.106:5000\n",
      "Press CTRL+C to quit\n",
      "192.168.0.106 - - [04/Jul/2024 10:34:18] \"GET / HTTP/1.1\" 200 -\n"
     ]
    },
    {
     "name": "stdout",
     "output_type": "stream",
     "text": [
      "WARNING:tensorflow:5 out of the last 13 calls to <function TensorFlowTrainer.make_predict_function.<locals>.one_step_on_data_distributed at 0x000001A347478430> triggered tf.function retracing. Tracing is expensive and the excessive number of tracings could be due to (1) creating @tf.function repeatedly in a loop, (2) passing tensors with different shapes, (3) passing Python objects instead of tensors. For (1), please define your @tf.function outside of the loop. For (2), @tf.function has reduce_retracing=True option that can avoid unnecessary retracing. For (3), please refer to https://www.tensorflow.org/guide/function#controlling_retracing and https://www.tensorflow.org/api_docs/python/tf/function for  more details.\n",
      "\u001b[1m1/1\u001b[0m \u001b[32m━━━━━━━━━━━━━━━━━━━━\u001b[0m\u001b[37m\u001b[0m \u001b[1m0s\u001b[0m 192ms/step\n"
     ]
    },
    {
     "name": "stderr",
     "output_type": "stream",
     "text": [
      "192.168.0.106 - - [04/Jul/2024 10:34:19] \"POST /process HTTP/1.1\" 200 -\n"
     ]
    },
    {
     "name": "stdout",
     "output_type": "stream",
     "text": [
      "Output: 1\n"
     ]
    }
   ],
   "source": [
    "import os\n",
    "import uuid\n",
    "import numpy as np\n",
    "from flask import Flask, request, jsonify, render_template\n",
    "import tensorflow as tf\n",
    "from PIL import Image\n",
    "from flask_cors import CORS\n",
    "from jinja2 import TemplateNotFound \n",
    "import base64\n",
    "# Path to the public folder\n",
    "base_path = r'./temp/'\n",
    "\n",
    "# Initialize Flask application\n",
    "app = Flask(__name__, static_folder=\"public\")\n",
    "cors = CORS(app, origins=[\"http://localhost:3000\"])\n",
    "\n",
    "# Load the TensorFlow model\n",
    "model_path = r\"best_model.keras\"\n",
    "model = tf.keras.models.load_model(model_path)\n",
    "\n",
    "@app.route('/process', methods=['POST'])\n",
    "def upload_file():\n",
    "    try:\n",
    "        # Get the base64 encoded image data from the POST request\n",
    "        data = request.form['file']\n",
    "        # Decode the base64 image data\n",
    "        image_data = base64.b64decode(data.split(',')[1])\n",
    "        \n",
    "        # Generate a UUID identifier\n",
    "        c_uuid = str(uuid.uuid4())\n",
    "\n",
    "        # Construct the file path\n",
    "        filename = os.path.join(base_path, c_uuid + '.png')\n",
    "\n",
    "        # Save the image data to a file\n",
    "        with open(filename, 'wb') as f:\n",
    "            f.write(image_data)\n",
    "\n",
    "        # Load the image and convert to grayscale\n",
    "        img = Image.open(filename).convert(\"L\")\n",
    "\n",
    "        # Resize the image\n",
    "        new_image = img.resize((28, 28))\n",
    "\n",
    "        # Convert image to array and resize\n",
    "        x = np.array(new_image).reshape((28, 28, 1))\n",
    "        x = np.expand_dims(x, axis=0)\n",
    "        images = np.vstack([x])\n",
    "\n",
    "        # Predict the digit in the image\n",
    "        classes = model.predict(images, batch_size=1)\n",
    "\n",
    "        # Get the predicted digit (class)\n",
    "        result = int(np.argmax(classes))\n",
    "        print(\"Output:\", result)\n",
    "        # Close the image\n",
    "        img.close()\n",
    "\n",
    "        # Remove the uploaded image\n",
    "        os.remove(filename)\n",
    "\n",
    "        # Return the result as JSON\n",
    "        return jsonify({'value': result})\n",
    "\n",
    "    except Exception as e:\n",
    "        print(\"Error:\", str(e))\n",
    "        return jsonify({'error': str(e)}), 500\n",
    "\n",
    "# Endpoint for digit recognition from uploaded image\n",
    "@app.route('/', methods=['GET', 'POST'])\n",
    "def start():\n",
    "    try:\n",
    "        return render_template(r'default.html')\n",
    "    except TemplateNotFound:\n",
    "        return \"Template not found!\", 404\n",
    "\n",
    "if __name__ == '__main__':\n",
    "    app.run(host='0.0.0.0', port=5000)\n"
   ]
  }
 ],
 "metadata": {
  "kernelspec": {
   "display_name": "my-course",
   "language": "python",
   "name": "my-course"
  },
  "language_info": {
   "codemirror_mode": {
    "name": "ipython",
    "version": 3
   },
   "file_extension": ".py",
   "mimetype": "text/x-python",
   "name": "python",
   "nbconvert_exporter": "python",
   "pygments_lexer": "ipython3",
   "version": "3.9.19"
  }
 },
 "nbformat": 4,
 "nbformat_minor": 2
}
